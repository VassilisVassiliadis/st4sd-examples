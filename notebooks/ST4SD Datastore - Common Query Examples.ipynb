{
 "cells": [
  {
   "cell_type": "markdown",
   "metadata": {},
   "source": [
    "#### Copyright IBM Inc. All Rights Reserved.\n",
    "#### SPDX-License-Identifier: Apache-2.0"
   ]
  },
  {
   "cell_type": "markdown",
   "metadata": {},
   "source": [
    "# FAQs:\n",
    "- I have a REST-UID, how can I find where the experiment instance is on the filesystem?\n",
    "- How can I get all instances of a particular experiment type with a tag like X?\n",
    "- How do I determine which of the experiment instances I've retrieved has suceeded?\n",
    "- How can I aggregate particular results files from all experiment instances that have that file?\n",
    "- How can I see what files were output by all components Y in replica N of a given instance?\n",
    "- How can I get file SOMEFILE from a particular component?\n",
    "- What is in the datastore?"
   ]
  },
  {
   "cell_type": "markdown",
   "metadata": {},
   "source": [
    "## Terminology\n",
    "- `experiment` - The definition of `parameterised virtual experiment package` (see [documentation](https://st4sd.github.io/overview/creating-a-parameterised-package/) for more information on parameterised virtual experiment packages)\n",
    "- `experiment instance` - A running or completed instance of an `experiment` with a unique `rest-uid`\n",
    "- `component` - A node in the workflow graph\n",
    "- `tag` - Some custom metadata added to an experiment instance by a user when it was launched"
   ]
  },
  {
   "cell_type": "code",
   "execution_count": null,
   "metadata": {},
   "outputs": [],
   "source": [
    "# import requests\n",
    "from __future__ import print_function\n",
    "from urllib.error import HTTPError\n",
    "\n",
    "import experiment.service.db\n",
    "import json\n",
    "import urllib\n",
    "import logging\n",
    "import pandas as pd\n",
    "\n",
    "import ipywidgets as widgets\n",
    "from IPython.display import display\n",
    "\n",
    "def pretty_json(what):\n",
    "    return json.dumps(what, indent=2, sort_keys=True)\n",
    "\n",
    "logging.getLogger().setLevel(logging.CRITICAL)"
   ]
  },
  {
   "cell_type": "code",
   "execution_count": null,
   "metadata": {},
   "outputs": [],
   "source": [
    "!pip install pandas"
   ]
  },
  {
   "cell_type": "markdown",
   "metadata": {},
   "source": [
    "## Setup\n",
    "- **NOTE** Set the routes to the ST4SD project where the instances you want to query live"
   ]
  },
  {
   "cell_type": "code",
   "execution_count": null,
   "metadata": {},
   "outputs": [],
   "source": [
    "# NOTE: this route belongs to a cluster with minimal resources \n",
    "# e.g. can process roughly 1/2 mols at a time\n",
    "route_st4sd_runtime_service = 'https://st4sd-prod.ve-5446-9ca4d14d48413d18ce61b80811ba4308-0000.us-south.containers.appdomain.cloud/rs'\n",
    "route_st4sd_rest = None\n",
    "route_st4sd_registry = None\n",
    "\n",
    "# WSC - requires setting up your /etc/hosts file first\n",
    "# route_st4sd_runtime_service = 'https://flow-api-dev.apps.foc.c699.net'\n",
    "# route_st4sd_rest = 'https://foc-cdb-rest-dev.apps.foc.c699.net'\n",
    "# route_st4sd_registry = 'https://foc-cdb-registry-dev.apps.foc.c699.net'"
   ]
  },
  {
   "cell_type": "markdown",
   "metadata": {},
   "source": [
    "### Authenticate to the ST4SD Stack"
   ]
  },
  {
   "cell_type": "markdown",
   "metadata": {},
   "source": [
    "Virtually all instances of the ST4SD stack have authentication enabled. Please follow the instructions in the cells below to correctly authenticate, if required.\n",
    "\n",
    "**NOTE: If you are running this notebook via the st4sd-runtime-core container please ensure it has been recently updated**"
   ]
  },
  {
   "cell_type": "code",
   "execution_count": null,
   "metadata": {},
   "outputs": [],
   "source": [
    "authentication_enabled = False\n",
    "try:\n",
    "    response = urllib.request.urlopen('/'.join((route_st4sd_runtime_service, 'oauth/sign_in')))\n",
    "except HTTPError as e:\n",
    "    if e.code == 403:\n",
    "        authentication_enabled = True\n",
    "        print(\"Authentication is enabled, please proceed with the 'Authentication Enabled' section\")\n",
    "    else:\n",
    "        print(\"Authentication is not enabled, skip to 'Connect to API'\")"
   ]
  },
  {
   "cell_type": "markdown",
   "metadata": {},
   "source": [
    "#### Authentication Enabled\n",
    "- Visit the URL printed in the cell below\n",
    "- If it's your first time accessing this ST4SD instance you will need to login to the OpenShift cluster once before you can proceed further.\n",
    "   - Contact the administrator of the OpenShift cluster hosting the ST4SD instance. They need to add you as a user on their OpenShift cluster and give you permission to view the namespaced objects in the OpenShift project hosting the ST4SD instance.\n",
    "   - Upon visiting the ${url_sign_in} you will have to choose the login method (depending on the OpenShift instance this can be W3Id, IBM SSO, LDAP, etc)\n",
    "   - If this is the first time you login, you will be prompted to give your consent for the workflow-operator ServiceAccount to know that your username has authenticated to OpenShift. You need to agree to this before you can authenticate to the `st4sd-runtime-service` REST-API.\n",
    "- After logging in, you will be presented with an authentication token that you will provide to the experiment.service.db.ExperimentRestAPI wrapper in a python cell below.\n",
    "   - The very first time you visit the ST4SD runtime service, your browser may attempt to use stale cookies. Please visit `${route_st4sd_runtime_service}/oauth/sign_in` to trigger a new login cycle and invalidate your browser stale cookies.\n",
    "      - For example: https://st4sd-prod.ve-5446-9ca4d14d48413d18ce61b80811ba4308-0000.us-south.containers.appdomain.cloud/oauth/sign_in\n",
    "\n",
    "**The token will last for 168 hours**"
   ]
  },
  {
   "cell_type": "code",
   "execution_count": null,
   "metadata": {},
   "outputs": [],
   "source": [
    "if authentication_enabled:\n",
    "    auth_url = '/'.join((route_st4sd_runtime_service, 'authorisation/token'))\n",
    "    print(f\"Visit this URL to get your authentication token:\\n{auth_url}\")"
   ]
  },
  {
   "cell_type": "markdown",
   "metadata": {},
   "source": [
    "Run this cell and paste in the widget below the value of the authorization token you've been presented with when you visited the URL in the previous cell. Alternatively, you can use an OpenShift token (the one that you'd normaly provide to the `--token` parameter of oc login) with the `cc_bearer_key` agument to experiment.service.db.ExperimentRestAPI\n",
    "\n",
    "NOTE: Visual Studio Code's renderer does not currently allow pasting in widgets such as the one below. If this is the case for you, you can fall back to pasting the token in the cell after this one."
   ]
  },
  {
   "cell_type": "code",
   "execution_count": null,
   "metadata": {},
   "outputs": [],
   "source": [
    "w_label = 'Input your authentication token here:'\n",
    "display(w_label)\n",
    "token_widget = widgets.Password()\n",
    "display(token_widget)"
   ]
  },
  {
   "cell_type": "code",
   "execution_count": null,
   "metadata": {},
   "outputs": [],
   "source": [
    "auth_token = ''\n",
    "if authentication_enabled and auth_token == '':\n",
    "    auth_token = token_widget.value\n",
    "    if auth_token == '':\n",
    "        print(\"Authentication is required. Please fill in your token in the box above.\")\n",
    "        raise Exception(\"Missing authentication\")"
   ]
  },
  {
   "cell_type": "markdown",
   "metadata": {},
   "source": [
    "### Connect to the API\n",
    "\n",
    "The cell below will validate the token you provided, ensuring you have successfully authenticated to ST4SD. "
   ]
  },
  {
   "cell_type": "code",
   "execution_count": null,
   "metadata": {},
   "outputs": [],
   "source": [
    "# Ensure that your account is authorised to use the ST4SD Runtime Service REST API\n",
    "try:\n",
    "    api = experiment.service.db.ExperimentRestAPI(route_st4sd_runtime_service, route_st4sd_registry, \n",
    "                                      route_st4sd_rest, max_retries=2, secs_between_retries=1,\n",
    "                                      cc_auth_token=auth_token)\n",
    "except experiment.service.errors.UnauthorisedRequest as e:\n",
    "    print(f\"Visit {auth_url} to retrieve your authentication token. Then use it to set the value of \"\n",
    "          \"\\\"auth_token\\\" in the above cell. Execute that cell and then execute this one.\")\n",
    "else:\n",
    "    print(f\"You've successfully authenticated to {route_st4sd_runtime_service}\")"
   ]
  },
  {
   "cell_type": "markdown",
   "metadata": {},
   "source": [
    "## FAQ: I have a REST-UID, how can I find where the experiment instance is on the filesystem?"
   ]
  },
  {
   "cell_type": "code",
   "execution_count": null,
   "metadata": {},
   "outputs": [],
   "source": [
    "restUID = 'band-gap-dft-gamess-us-27b9dc-ka72wvld' #ADD YOUR REST-UID HERE"
   ]
  },
  {
   "cell_type": "code",
   "execution_count": null,
   "metadata": {},
   "outputs": [],
   "source": [
    "experiment = api.cdb_get_user_metadata_document_for_rest_uid(restUID)"
   ]
  },
  {
   "cell_type": "code",
   "execution_count": null,
   "metadata": {},
   "outputs": [],
   "source": [
    "print(pretty_json(experiment))"
   ]
  },
  {
   "cell_type": "code",
   "execution_count": null,
   "metadata": {},
   "outputs": [],
   "source": [
    "#Use this so you can execute 'FAQ: I want to aggregate particular results ...' on this output\n",
    "#successful = [experiment]"
   ]
  },
  {
   "cell_type": "markdown",
   "metadata": {},
   "source": [
    "## FAQ: How can I get all instances of an experiment ?"
   ]
  },
  {
   "cell_type": "code",
   "execution_count": null,
   "metadata": {},
   "outputs": [],
   "source": [
    "#Retrieve all instances:\n",
    "# - of all parameterised virtual experiment package whose names begin with \"band-gap-\"\n",
    "# - whose exit status is \"Success\"\n",
    "\n",
    "#NOTE: `cdb_get_document` query can use any keys of any document whose values are NOT containers (lists etc)\n",
    "#(sub-keys are queried using a \"key-path\" notation c.f. below)\n",
    "#Only documents which contain ALL keys in the query, with values that match the regexes supplied, are returned\n",
    "#This mean for example you don't have to ask for a document of type X if the key you are querying only exists\n",
    "#in documents of type X\n",
    "\n",
    "# For example, the Experiment-type documents are the only documents that contain the \"metadata\" field.\n",
    "\n",
    "query = {\n",
    "    # Case sensitive regular expression - use {\"$regex\": ..., \"$options\", \"i\"} for case insensitive query\n",
    "    'metadata.userMetadata.st4sd-package-name': {'$regex': 'band-gap-.*'},\n",
    "     # Exit status must be equal to \"Success\" (case sensitive)\n",
    "    'status.exit-status': 'Success'\n",
    "}"
   ]
  },
  {
   "cell_type": "code",
   "execution_count": null,
   "metadata": {},
   "outputs": [],
   "source": [
    "instances = api.cdb_get_document(query)"
   ]
  },
  {
   "cell_type": "code",
   "execution_count": null,
   "metadata": {},
   "outputs": [],
   "source": [
    "print(pretty_json(instances[0]))"
   ]
  },
  {
   "cell_type": "markdown",
   "metadata": {},
   "source": [
    "## FAQ: How can I get all instances of a specific version of an experiment given its full identifier ?"
   ]
  },
  {
   "cell_type": "code",
   "execution_count": null,
   "metadata": {},
   "outputs": [],
   "source": [
    "#Retrieve all experiment instances:\n",
    "# - that ran on the \"kubernetes\" backend, AND\n",
    "# - with a specific parameterised virtual experiment package identifier, AND\n",
    "# - whose exit status is \"Success\"\n",
    "\n",
    "\n",
    "identifier = \"band-gap-pm3-gamess-us@sha256x822c80d16092f6e8f36689e915163c24decb261cb142bfc2aa931182\"\n",
    "query = {\n",
    "  'metadata.variables.global.backend': 'kubernetes',\n",
    "  'metadata.userMetadata.experiment-id': identifier,\n",
    "  'status.exit-status': 'Success'\n",
    "}"
   ]
  },
  {
   "cell_type": "code",
   "execution_count": null,
   "metadata": {},
   "outputs": [],
   "source": [
    "instances = api.cdb_get_document(query)"
   ]
  },
  {
   "cell_type": "code",
   "execution_count": null,
   "metadata": {},
   "outputs": [],
   "source": [
    "print(pretty_json(instances[0]))"
   ]
  },
  {
   "cell_type": "markdown",
   "metadata": {},
   "source": [
    "## FAQ: How can I get all instances of a specific version of an experiment given its name and tag ?"
   ]
  },
  {
   "cell_type": "code",
   "execution_count": null,
   "metadata": {},
   "outputs": [],
   "source": [
    "#Retrieve all experiment instances:\n",
    "# - that ran on the \"kubernetes\" backend, AND\n",
    "# - whose parameterised virtual experiment package name starts with \"band-gap-\", AND\n",
    "# - whose exit status is \"Success\"\n",
    "\n",
    "# Each version of a PVEP has 0+ tags and exactly 1 digest\n",
    "# To query the db for a tagged PVEP version first you need to obtain the digest\n",
    "\n",
    "experiment_name = \"band-gap-dft-gamess-us\"\n",
    "tag = \"latest\"\n",
    "tagged_pvep = \":\".join([experiment_name, tag])\n",
    "\n",
    "# Then you can query the Datastore (CDB) using the name and digest of the PVEP version\n",
    "pvep_def = api.api_experiment_get(tagged_pvep)\n",
    "digest = pvep_def['metadata']['registry']['digest']\n",
    "identifier = '@'.join([experiment_name, digest])\n",
    "\n",
    "query = {'metadata.userMetadata.experiment-id': identifier}\n",
    "\n",
    "# The above query is equivalent to:\n",
    "# query = {'metadata.userMetadata.st4sd-package-name': experiment_name,\n",
    "#          'metadata.userMetadata.st4sd-package-digest': digest}\n",
    "# Because a version of a PVEP can have multiple tags (which can change over time)\n",
    "# we do not currently record the tags at the point of submission of the PVEP instance "
   ]
  },
  {
   "cell_type": "code",
   "execution_count": null,
   "metadata": {},
   "outputs": [],
   "source": [
    "instances = api.cdb_get_document(query)"
   ]
  },
  {
   "cell_type": "code",
   "execution_count": null,
   "metadata": {},
   "outputs": [],
   "source": [
    "print(pretty_json(instances[0]))"
   ]
  },
  {
   "cell_type": "markdown",
   "metadata": {},
   "source": [
    "## FAQ: How do I determine which experiment instances suceeded or failed?"
   ]
  },
  {
   "cell_type": "code",
   "execution_count": null,
   "metadata": {},
   "outputs": [],
   "source": [
    "#Note you could also submit a query to above to include only succeesful instances in the first place\n",
    "#Retrieve all experiment instances:\n",
    "# - that ran on the \"kubernetes\" backend\n",
    "# - whose experiment-id starts with \"band-gap\"\n",
    "# - whose exit status is \"Success\"\n",
    "#query = {'metadata.variables.global.backend': 'kubernetes',\n",
    "#         'metadata.userMetadata.experiment-id': {'$regex': 'band-gap.*'},\n",
    "#         'status.exit-status':'Success'}"
   ]
  },
  {
   "cell_type": "code",
   "execution_count": null,
   "metadata": {},
   "outputs": [],
   "source": [
    "successful = list(filter(lambda x: x['status']['exit-status'] == 'Success', instances))"
   ]
  },
  {
   "cell_type": "code",
   "execution_count": null,
   "metadata": {},
   "outputs": [],
   "source": [
    "max_to_show = 5\n",
    "for idx, e in enumerate(successful):\n",
    "    \n",
    "    if idx > max_to_show:\n",
    "        break\n",
    "        \n",
    "    print(e['metadata']['userMetadata']['rest-uid'], e['metadata']['variables']['global']['backend'], \n",
    "          e['status']['exit-status'])\n",
    "    try:\n",
    "        print('Outputs available:', pretty_json(e['output']), end='\\n\\n')\n",
    "    except:\n",
    "        print('No outputs available', end='\\n\\n')"
   ]
  },
  {
   "cell_type": "markdown",
   "metadata": {},
   "source": [
    "## FAQ: How can I get all experiments which had a specific field (e.g. a user metadata)?"
   ]
  },
  {
   "cell_type": "code",
   "execution_count": null,
   "metadata": {},
   "outputs": [],
   "source": [
    "# You can use the $exists mongoDB operator.\n",
    "# For example to find all experiments which the user annotated with the \"planet\"\n",
    "# user-provided metadata \"planet\" (regardless of the value) you can use:\n",
    "\n",
    "query = {\n",
    "  # Changing True to False below will ask for `experiment` type documents which do not contain\n",
    "  # the field metadata.userMetadata.planet\n",
    "  'metadata.userMetadata.planet': {\"$exists\": True},\n",
    "  'type': \"experiment\"\n",
    "}"
   ]
  },
  {
   "cell_type": "code",
   "execution_count": null,
   "metadata": {},
   "outputs": [],
   "source": [
    "instances = api.cdb_get_document(query)"
   ]
  },
  {
   "cell_type": "code",
   "execution_count": null,
   "metadata": {},
   "outputs": [],
   "source": [
    "print(pretty_json(instances[0]))"
   ]
  },
  {
   "cell_type": "markdown",
   "metadata": {},
   "source": [
    "## FAQ P1: I want to aggregate particular results files from all  experiment instances that have that file ...\n",
    "## FAQ P2: ... And merge with the input file"
   ]
  },
  {
   "cell_type": "markdown",
   "metadata": {},
   "source": [
    "- Here we retrieve the results from the `status` json as we have it already\n",
    "- Then retrieve the input file from the `st4sd-datastore`\n",
    "- Then join the two tables using the `label` column"
   ]
  },
  {
   "cell_type": "code",
   "execution_count": null,
   "metadata": {},
   "outputs": [],
   "source": [
    "for ins in instances:\n",
    "    try:\n",
    "        s = api.api_rest_uid_status(ins['metadata']['userMetadata']['rest-uid'])\n",
    "        print(pretty_json(s))\n",
    "    except Exception as error:\n",
    "        pass"
   ]
  },
  {
   "cell_type": "code",
   "execution_count": null,
   "metadata": {},
   "outputs": [],
   "source": [
    "inputFilename='input/input_smiles.csv'"
   ]
  },
  {
   "cell_type": "code",
   "execution_count": null,
   "metadata": {},
   "outputs": [],
   "source": [
    "#For each experiment with output:\n",
    "#1. retrieve the ExtractEnergies\n",
    "#2. retrieve the input file\n",
    "#NOTE: The input file is required if you want to translate the \"label\" column in the output file to the \n",
    "#value of some other column provided in the inputs e.g. SMILES\n",
    "#NOTE: Optionally we can retrieve all the results from disk rather than via the `status` object\n",
    "import io\n",
    "results = []\n",
    "for ins in list(successful):\n",
    "    try:\n",
    "        #Here we retrive the result from the REST-API status - could also get it via CDB\n",
    "        print('Retrieving for', ins['metadata']['userMetadata']['rest-uid'])\n",
    "        d = api.cdb_get_data(instance=ins['instance'],\n",
    "                             component='ExtractEnergies', \n",
    "                             filename='energies.csv')[1][0]\n",
    "        print(d)\n",
    "        s = d.csvRepresentation()\n",
    "        result = pd.read_csv(io.StringIO(u'%s' % s), sep=\",\")\n",
    "        d = api.cdb_get_file_from_instance_uri(ins['instance'], inputFilename)     \n",
    "        inputs = pd.read_csv(io.StringIO(d.decode(\"utf-8\")))\n",
    "        #Join the two based on the `label` column\n",
    "        results.append(result.merge(inputs, on='label'))\n",
    "    except KeyError as error: \n",
    "        print('Instance %s does not have TDDFT output' % ins['rest-uid'])"
   ]
  },
  {
   "cell_type": "code",
   "execution_count": null,
   "metadata": {},
   "outputs": [],
   "source": [
    "#Aggregate all results into one table\n",
    "aggregated = pd.concat(results, axis=0)\n",
    "display(aggregated)"
   ]
  },
  {
   "cell_type": "code",
   "execution_count": null,
   "metadata": {},
   "outputs": [],
   "source": [
    "with open('results.csv', 'w') as f:\n",
    "    aggregated.to_csv(f, index=False)"
   ]
  },
  {
   "cell_type": "markdown",
   "metadata": {},
   "source": [
    "## FAQ: How can I see what files were output by all components Y in replica N  of a given instance"
   ]
  },
  {
   "cell_type": "code",
   "execution_count": null,
   "metadata": {},
   "outputs": [],
   "source": [
    "instance_uri=list(successful)[0]['instance'] #Put your instance URI here"
   ]
  },
  {
   "cell_type": "code",
   "execution_count": null,
   "metadata": {},
   "outputs": [],
   "source": [
    "#Example: Get data for particular molecule \n",
    "#This will retrieve component documents for  all components run on molecule 0\n",
    "comps = api.cdb_get_document_component(component='.*0', instance=instance_uri)\n",
    "comps"
   ]
  },
  {
   "cell_type": "markdown",
   "metadata": {},
   "source": [
    "## FAQ: How can I get file SOMEFILE from a particular component "
   ]
  },
  {
   "cell_type": "code",
   "execution_count": null,
   "metadata": {},
   "outputs": [],
   "source": [
    "#Get a file for a particular component \n",
    "component = \n",
    "filename = 'out.stdout'\n",
    "instance="
   ]
  },
  {
   "cell_type": "code",
   "execution_count": null,
   "metadata": {},
   "outputs": [],
   "source": [
    "d = api.cdb_get_components_raw_files(instance=instance, \n",
    "                                     filename='.*out.stdout', \n",
    "                                     component=component)\n",
    "d"
   ]
  },
  {
   "cell_type": "markdown",
   "metadata": {},
   "source": [
    "## FAQ: How can I retrieve the log of an experiment instance?"
   ]
  },
  {
   "cell_type": "code",
   "execution_count": null,
   "metadata": {},
   "outputs": [],
   "source": [
    "log_bytes = api.cdb_get_file_from_instance_uri(instance_uri, \"output/experiment.log\")\n",
    "print(log_bytes.decode('utf-8'))"
   ]
  },
  {
   "cell_type": "markdown",
   "metadata": {},
   "source": [
    "## FAQ: How can I retrieve the log of a component?"
   ]
  },
  {
   "cell_type": "code",
   "execution_count": null,
   "metadata": {},
   "outputs": [],
   "source": [
    "api.cdb_get_components_last_stdout(instance=instance_uri, component=comps[0])"
   ]
  },
  {
   "cell_type": "markdown",
   "metadata": {},
   "source": [
    "## FAQ: What is in the datastore?"
   ]
  },
  {
   "cell_type": "markdown",
   "metadata": {},
   "source": [
    "## Datastore Structure\n",
    "\n",
    "The `st4sd-datastore` is a document database. Each workflow instance has 3 sets of documents: \n",
    "- `experiment`: 1 document that contains information for 1 instance of a workflow\n",
    "- `user-metadata`: 1 document contains the user provided key:value pairs associated with a particular workflow instance\n",
    "- `component`: 1 per component in the experiment instance. Each Document contains metadata for 1 component of the workflow instance.\n",
    "\n",
    "Each document as a `uid` which **uniquely** identifies the document. Documents associated with a given workflow instance have the same `instance` field which is a `file://` URI with the format `file://<cluster-label>/absolute/path/to/the/intance/directory`.\n",
    "\n",
    "\n",
    "### User Metadata\n",
    "\n",
    "\n",
    "A **user-metadata** document has the following keys\n",
    "\n",
    "- **uid**: A file:// URI that *uniquely* identifies this particular Mongo Document\n",
    "- **type**: The document type: In this case always `user-metadata`\n",
    "- **instance**: The file:// URI of the instance that the document refers to (unique per instance)\n",
    "- **rest-uid**: The ID that the consumable-computing REST-API returns after a successfull call to api_instance_create()\n",
    "- 0+ custom key:values (keys are strings, values can be JSON-serializable objects, typically strings)\n",
    "\n",
    "### Component Documents\n",
    "\n",
    "A **component** document has the following keys\n",
    "\n",
    "- **uid**: A file:// URI that *uniquely* identifies this particular Mongo Document\n",
    "- **type**: The document type: In this case `component`\n",
    "- **name**: The components name\n",
    "- **instance**: The file:// URI of the instance that the document refers to (unique per instance)\n",
    "- **location**: The absolute path of the working directory of the component  (not a URI)\n",
    "- **stage**: The stage the component was in. Components are uniquely specified by their name and stage\n",
    "- **files**: A list of the files in the components working directory (paths relative to working directory). May be input or output\n",
    "- **producers**:\n",
    "   - `<the uid of a component document whose output(s) *this* component reads>`:\n",
    "       - `path/relative/to/producer/working/directory`\n",
    "       - `another/path/relative/to/producer/working/directory`\n",
    "- **flowir**: The FlowIR definition of the component\n",
    "- **memoization-hash**: A hash which can be used during memoization (i.e reuse a cached component's outputs instead of executing a component from scratch).\n",
    "- **memoization-hash-fuzzy**: As above but used during fuzzy memoization\n",
    "- **component-state**: last known state of component (finished/failed/shutdown/running)\n",
    "\n",
    "### Experiment Documents\n",
    "\n",
    "An **experiment** document has the following keys\n",
    "\n",
    "- **uid**: A file:// URI that *uniquely* identifies this particular Mongo Document\n",
    "- **type**: The document type: In this case `experiment`\n",
    "- **name**: The experiments name\n",
    "- **instance**: The file:// URI of the instance that the document refers to (unique per instance)\n",
    "- **output**:   \n",
    "  - `<name of key output:str>`:\n",
    "    - creationtime: `<datetime in format \"%Y-%m-%dT%H%M%S.%f\": str>`\n",
    "    - description: `<str>`\n",
    "    - filename: `<name of file:str>`\n",
    "    - filepath: `<absolute path to file:str>`\n",
    "    - final: `<yes/no:str>`\n",
    "    - production: `<yes/no:str>`\n",
    "    - type: `<the contents of the `type` field from the associated output entry in FlowIR:str>`\n",
    "    - version: `<times this output has been updated:int>`\n",
    "- **metadata**: A dictionary of experiment metadata\n",
    "   - **arguments**: The elaunch command-line\n",
    "   - **data**: The `-d` arguments to elaunch\n",
    "   - **inputs**: The `-i` arguments to elaunch\n",
    "   - **instanceName**: The final part of the **instance** path/URL\n",
    "   - **pid**: The process id of the instance\n",
    "   - **userVariables**: A dictionary with the contents of the `variables.conf` passed to elaunch if present\n",
    "   - **version**: The st4sd-runtime-core version\n",
    "   - **userMetadata**: Same as content of user metadata document\n",
    "- **status**\n",
    "  - experiment-state: (running, finished)\n",
    "  - stage-state: (running, finished, failed, shutdown)\n",
    "  - updated: `<string reprensetion of timestamp>`\n",
    "  - exit-status: (Success, Failed, or just empty)\n",
    "  - error-description(optional): `<string reprensetion of float in [0.0, 1.0]>`\n",
    "  - const: `<string reprensetion of float in [0.0, 1.0]>`\n",
    "  - total-progress: `<string reprensetion of float in [0.0, 1.0]>`\n",
    "  - stage-progress: `<string reprensetion of float in [0.0, 1.0]>`\n",
    "  - stages (a list):\n",
    "     - `<name of stage:str>`"
   ]
  },
  {
   "cell_type": "code",
   "execution_count": null,
   "metadata": {},
   "outputs": [],
   "source": [
    "#NOTE: The rest-uid will ONLY get you the user-metadata doc of the instance from the st4sd-datastore. \n",
    "#For the other-docs you need the instance-uri - which is also in the user-metadata doc\n",
    "restUID = 'band-gap-dft-gamess-us-27b9dc-ka72wvld' #Put your own RESTUID here"
   ]
  },
  {
   "cell_type": "code",
   "execution_count": null,
   "metadata": {},
   "outputs": [],
   "source": [
    "#Example user-metadata doc \n",
    "usermeta_doc = api.cdb_get_document({'rest-uid':restUID, 'type':'user-metadata'})[0]\n",
    "print(pretty_json(usermeta_doc))\n",
    "instance_uri = usermeta_doc['instance']"
   ]
  },
  {
   "cell_type": "code",
   "execution_count": null,
   "metadata": {},
   "outputs": [],
   "source": [
    "#Example experiment-instance doc\n",
    "instance_doc = api.cdb_get_document({'instance':instance_uri, 'type':'experiment'})[0]\n",
    "print(pretty_json(instance_doc))"
   ]
  },
  {
   "cell_type": "code",
   "execution_count": null,
   "metadata": {},
   "outputs": [],
   "source": [
    "#Example component doc\n",
    "component_doc = api.cdb_get_document({'instance':instance_uri, 'type':'component', 'name':'GeometryOptimisation0'})[0]\n",
    "print(pretty_json(component_doc))"
   ]
  }
 ],
 "metadata": {
  "kernelspec": {
   "display_name": "Python 3.10.8 64-bit",
   "language": "python",
   "name": "python3"
  },
  "language_info": {
   "codemirror_mode": {
    "name": "ipython",
    "version": 3
   },
   "file_extension": ".py",
   "mimetype": "text/x-python",
   "name": "python",
   "nbconvert_exporter": "python",
   "pygments_lexer": "ipython3",
   "version": "3.10.8"
  },
  "toc": {
   "nav_menu": {},
   "number_sections": true,
   "sideBar": true,
   "skip_h1_title": false,
   "toc_cell": false,
   "toc_position": {},
   "toc_section_display": "block",
   "toc_window_display": false
  },
  "vscode": {
   "interpreter": {
    "hash": "b0fa6594d8f4cbf19f97940f81e996739fb7646882a419484c72d19e05852a7e"
   }
  }
 },
 "nbformat": 4,
 "nbformat_minor": 2
}
