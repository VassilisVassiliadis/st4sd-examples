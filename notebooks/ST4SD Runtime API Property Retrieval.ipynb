{
 "cells": [
  {
   "cell_type": "markdown",
   "metadata": {},
   "source": [
    "#### Copyright IBM Inc. All Rights Reserved.\n",
    "#### SPDX-License-Identifier: Apache-2.0"
   ]
  },
  {
   "cell_type": "markdown",
   "metadata": {},
   "source": [
    "# ST4SD Property retrieval\n",
    "\n",
    "\n",
    "This notebook demonstrates\n",
    "* Authenticating to the `st4sd-runtime-service` REST-API\n",
    "* Querying available experiments\n",
    "* Submitting a `band-gap-pm3-gamess-us` experiment\n",
    "* Querying status of `band-gap-pm3-gamess-us` instance\n",
    "* Retrieving top-level output results from the instance\n",
    "\n",
    "For information on how to retrieve detailed information via the `st4sd-datastore` see the notebook `ST4SD Datastore - Common Query Examples` located in same repository as this notebook.\n",
    "\n",
    "\n",
    "## Notes\n",
    "\n",
    "* Go to https://st4sd.github.io/overview/api-docs/openapi/st4sd-runtime-service/st4sd-runtime-service.openapi.html for the full API specification\n",
    "* For details on the **band-gap-gamess** experiments see https://github.com/st4sd/band-gap-gamess for more information\n",
    "   \n",
    "## Terminology\n",
    "- **experiment**: Refers to the *definition* of a particular workflow e.g. the `band-gap-pm3-gamess-us` experiment\n",
    "- **instance**: Refers to a particular execution of an experiment"
   ]
  },
  {
   "cell_type": "markdown",
   "metadata": {},
   "source": [
    "## Setup"
   ]
  },
  {
   "cell_type": "code",
   "execution_count": null,
   "metadata": {},
   "outputs": [],
   "source": [
    "from __future__ import print_function\n",
    "from urllib.error import HTTPError\n",
    "\n",
    "import experiment.service.db\n",
    "import urllib\n",
    "import pprint\n",
    "import logging\n",
    "import pandas as pd\n",
    "import time\n",
    "import datetime\n",
    "import json\n",
    "\n",
    "import ipywidgets as widgets\n",
    "from IPython.display import display\n",
    "from IPython.display import clear_output\n",
    "\n",
    "def pretty_json(what):\n",
    "    return json.dumps(what, indent=2, sort_keys=True)\n",
    "\n",
    "logging.basicConfig(format='%(levelname)-9s %(name)-15s: %(funcName)-20s %(asctime)-15s: %(message)s')\n",
    "root = logging.getLogger()\n",
    "root.setLevel(logging.CRITICAL)"
   ]
  },
  {
   "cell_type": "markdown",
   "metadata": {},
   "source": [
    "Modify the routes below to match the ones of your OpenShift cluster.\n",
    "\n",
    "Technically the only one that *must* be defined is `route_st4sd_runtime_service`, as the wrapper can auto-detect the other two."
   ]
  },
  {
   "cell_type": "code",
   "execution_count": null,
   "metadata": {},
   "outputs": [],
   "source": [
    "route_st4sd_runtime_service = 'https://st4sd-prod.ve-5446-9ca4d14d48413d18ce61b80811ba4308-0000.us-south.containers.appdomain.cloud/rs'\n",
    "route_st4sd_rest = None\n",
    "route_st4sd_registry = None"
   ]
  },
  {
   "cell_type": "markdown",
   "metadata": {},
   "source": [
    "### Authenticate to the ST4SD Stack"
   ]
  },
  {
   "cell_type": "markdown",
   "metadata": {},
   "source": [
    "Virtually all instances of the ST4SD stack have authentication enabled. Please follow the instructions in the cells below to correctly authenticate, if required.\n",
    "\n",
    "**NOTE: If you are running this notebook via the st4sd-runtime-core container please ensure it has been recently updated**"
   ]
  },
  {
   "cell_type": "code",
   "execution_count": null,
   "metadata": {},
   "outputs": [],
   "source": [
    "authentication_enabled = False\n",
    "try:\n",
    "    response = urllib.request.urlopen('/'.join((route_st4sd_runtime_service, 'oauth/sign_in')))\n",
    "except HTTPError as e:\n",
    "    if e.code == 403:\n",
    "        authentication_enabled = True\n",
    "        print(\"Authentication is enabled, please proceed with the 'Authentication Enabled' section\")\n",
    "    else:\n",
    "        print(\"Authentication is not enabled, skip to 'Connect to API'\")"
   ]
  },
  {
   "cell_type": "markdown",
   "metadata": {},
   "source": [
    "#### Authentication Enabled\n",
    "- Visit the URL printed in the cell below\n",
    "- If it's your first time, you will be prompted to login\n",
    "   - You will have to choose the login method (depending on the OpenShift instance this can be LDAP, IBM SSO, etc)\n",
    "   - If this is the first time you login, you will be prompted to give your consent for the workflow-operator ServiceAccount to know that your username has authenticated to OpenShift. You need to agree to this before you can authenticate to the `st4sd-runtime-service` REST-API.\n",
    "- After logging in, you will be presented with an authentication token that you will provide to the experiment.service.db.ExperimentRestAPI wrapper in a python cell below.\n",
    "\n",
    "**The token will last for 168 hours**"
   ]
  },
  {
   "cell_type": "code",
   "execution_count": null,
   "metadata": {},
   "outputs": [],
   "source": [
    "if authentication_enabled:\n",
    "    auth_url = '/'.join((route_st4sd_runtime_service, 'authorisation/token'))\n",
    "    print(f\"Visit this URL to get your authentication token:\\n{auth_url}\")"
   ]
  },
  {
   "cell_type": "markdown",
   "metadata": {},
   "source": [
    "Run this cell and paste in the widget below the value of the authorization token you've been presented with when you visited the URL in the previous cell. Alternatively, you can use an OpenShift token (the one that you'd normaly provide to the `--token` parameter of oc login) with the `cc_bearer_key` agument to experiment.service.db.ExperimentRestAPI"
   ]
  },
  {
   "cell_type": "code",
   "execution_count": null,
   "metadata": {},
   "outputs": [],
   "source": [
    "w_label = 'Input your authentication token here:'\n",
    "display(w_label)\n",
    "token_widget = widgets.Password()\n",
    "display(token_widget)"
   ]
  },
  {
   "cell_type": "code",
   "execution_count": null,
   "metadata": {},
   "outputs": [],
   "source": [
    "auth_token = ''\n",
    "if authentication_enabled and auth_token == '':\n",
    "    auth_token = token_widget.value\n",
    "    if auth_token == '':\n",
    "        print(\"Authentication is required. Please fill in your token in the box above.\")\n",
    "        raise Exception(\"Missing authentication\")\n",
    "    if auth_token.startswith(\"\\\"\"):\n",
    "        auth_token = auth_token[1:]\n",
    "    if auth_token.endswith(\"\\\"\"):\n",
    "        auth_token = auth_token[:-1]\n",
    "    token_widget.value = \"\""
   ]
  },
  {
   "cell_type": "markdown",
   "metadata": {},
   "source": [
    "### Connect to the API"
   ]
  },
  {
   "cell_type": "code",
   "execution_count": null,
   "metadata": {},
   "outputs": [],
   "source": [
    "# Uncomment line below to view the documentation of the python wrapper\n",
    "# help(experiment.service.db.ExperimentRestAPI)"
   ]
  },
  {
   "cell_type": "code",
   "execution_count": null,
   "metadata": {},
   "outputs": [],
   "source": [
    "# Ensure that your account is authorised to use the ST4SD Runtime Service REST API\n",
    "try:\n",
    "    api = experiment.service.db.ExperimentRestAPI(route_st4sd_runtime_service, route_st4sd_registry, \n",
    "                                      route_st4sd_rest, max_retries=2, secs_between_retries=1,\n",
    "                                      cc_auth_token=auth_token)\n",
    "except experiment.service.errors.UnauthorisedRequest:\n",
    "    err = ValueError(f\"Visit {auth_url} to authenticate first, then provide the printed string to the cc_auth_token \"\n",
    "                    \"parameter of experiment.service.db.ExperimentRestAPI constructor\")\n",
    "else:\n",
    "    print(f\"You've successfully authenticated to {route_st4sd_runtime_service}\")"
   ]
  },
  {
   "cell_type": "markdown",
   "metadata": {},
   "source": [
    "## List and Add Experiments"
   ]
  },
  {
   "cell_type": "code",
   "execution_count": null,
   "metadata": {},
   "outputs": [],
   "source": [
    "# Query available experiments\n",
    "experiments = api.api_experiment_list()\n",
    "to_show = 5\n",
    "\n",
    "print(f\"There are {len(experiments.keys())} registered experiments\", end='')\n",
    "if len(experiments.keys()) > to_show:\n",
    "    print(\". The first 5 are:\", end='\\n\\n')\n",
    "else:\n",
    "    print(\":\", end='\\n\\n')\n",
    "\n",
    "for idx, e in enumerate(experiments.keys()):\n",
    "    if idx > to_show:\n",
    "        break\n",
    "    print(e)\n"
   ]
  },
  {
   "cell_type": "code",
   "execution_count": null,
   "metadata": {
    "scrolled": true
   },
   "outputs": [],
   "source": [
    "if len(experiments.keys()) > 0:\n",
    "    print(\"The entry for the first experiment is:\", end='\\n\\n')\n",
    "    first_experiment = experiments[list(experiments.keys())[0]]\n",
    "    print(pretty_json(first_experiment))"
   ]
  },
  {
   "cell_type": "markdown",
   "metadata": {},
   "source": [
    "## Upsert an experiment"
   ]
  },
  {
   "cell_type": "markdown",
   "metadata": {},
   "source": [
    "`band-gap-dft-gamess-us` is a DFT experiment for calculating the band gap of the anion component of a PAG along with HOMO and LUMO energies. The experiment takes as input a table of molecules as SMILES strings and returns one table containing the results of the band-gap calculation.\n",
    "\n",
    "From: https://github.com/st4sd/band-gap-gamess"
   ]
  },
  {
   "cell_type": "code",
   "execution_count": null,
   "metadata": {},
   "outputs": [],
   "source": [
    "package = {\n",
    "    \"base\": {\n",
    "        \"packages\": [\n",
    "            {\n",
    "                \"source\": {\n",
    "                    \"git\": {\n",
    "                        \"location\": {\n",
    "                            \"url\": \"https://github.com/st4sd/band-gap-gamess.git\",\n",
    "                            \"tag\": \"1.0.0\"\n",
    "                        }\n",
    "                    }\n",
    "                },\n",
    "                \"config\": {\n",
    "                    \"path\": \"semi-empirical/homo-lumo-dft-semi-empirical.yaml\",\n",
    "                    \"manifestPath\": \"semi-empirical/manifest.yaml\"\n",
    "                }\n",
    "            }\n",
    "        ]\n",
    "    },\n",
    "    \"metadata\": {\n",
    "        \"package\": {\n",
    "            \"name\": \"band-gap-pm3-gamess-us\",\n",
    "            \"tags\": [\n",
    "                \"latest\",\n",
    "                \"1.0.0\"\n",
    "            ],\n",
    "            \"maintainer\": \"https://github.com/michael-johnston\",\n",
    "            \"description\": \"Uses the PM3 semi-empirical method to perform the geometry optimization and calculate the band-gap and related properties. The calculation is performed with GAMESS-US\",\n",
    "            \"keywords\": [\n",
    "                \"smiles\",\n",
    "                \"computational chemistry\",\n",
    "                \"semi-empirical\",\n",
    "                \"geometry-optimization\",\n",
    "                \"pm3\",\n",
    "                \"homo\",\n",
    "                \"lumo\",\n",
    "                \"band-gap\",\n",
    "                \"gamess-us\"\n",
    "            ]\n",
    "        }\n",
    "    },\n",
    "    \"parameterisation\": {\n",
    "        \"presets\": {\n",
    "            \"runtime\": {\n",
    "                \"args\": [\n",
    "                    \"--failSafeDelays=no\",\n",
    "                    \"--registerWorkflow=yes\"\n",
    "                ]\n",
    "            }\n",
    "        },\n",
    "        \"executionOptions\": {\n",
    "            \"variables\": [\n",
    "                {\n",
    "                    \"name\": \"numberMolecules\"\n",
    "                },\n",
    "                {\n",
    "                    \"name\": \"startIndex\"\n",
    "                },\n",
    "                {\n",
    "                    \"name\":  \"gamess-walltime-minutes\"\n",
    "                },\n",
    "                {\n",
    "                    \"name\":  \"gamess-grace-period-seconds\"\n",
    "                },\n",
    "                {\n",
    "                    \"name\":  \"number-processors\"\n",
    "                }\n",
    "            ],\n",
    "            \"platform\": [\n",
    "                \"openshift\",\n",
    "                \"openshift-kubeflux\"\n",
    "            ]\n",
    "        }\n",
    "    }\n",
    "}\n",
    "\n",
    "\n",
    "package = api.api_experiment_push(package)\n",
    "print(pretty_json(package))"
   ]
  },
  {
   "cell_type": "markdown",
   "metadata": {},
   "source": [
    "Thanks to the use of the virtual-experiment interface, we can understand what is being calculated"
   ]
  },
  {
   "cell_type": "code",
   "execution_count": null,
   "metadata": {},
   "outputs": [],
   "source": [
    "pd.DataFrame(package['metadata']['registry']['interface']['propertiesSpec'])[['name','description']]"
   ]
  },
  {
   "cell_type": "code",
   "execution_count": null,
   "metadata": {},
   "outputs": [],
   "source": [
    "# You may delete the experiment 'band-gap-pm3-gamess-us' using\n",
    "\n",
    "# api.api_experiment_delete('band-gap-pm3-gamess-us')\n",
    "\n",
    "# WARNING: The only way re-instate the experiment definition \n",
    "# is to use api_experiment_push() it once again."
   ]
  },
  {
   "cell_type": "markdown",
   "metadata": {},
   "source": [
    "## Submit Experiment"
   ]
  },
  {
   "cell_type": "code",
   "execution_count": null,
   "metadata": {},
   "outputs": [],
   "source": [
    "#Input data - A csv formatted string containing a label a SMILES\n",
    "#You can also use the next cell to load a file from your hard drive instead\n",
    "moleculeData = '''label,smiles\n",
    "mymolecule,CCCCCCCC[SH2+]\n",
    "'''.rstrip()"
   ]
  },
  {
   "cell_type": "code",
   "execution_count": null,
   "metadata": {},
   "outputs": [],
   "source": [
    "display(\"Choose the amount of molecules you want to calculate values for:\")\n",
    "num_molecules = widgets.IntSlider(min = 1, max = 5, value = 1)\n",
    "display(num_molecules)"
   ]
  },
  {
   "cell_type": "code",
   "execution_count": null,
   "metadata": {},
   "outputs": [],
   "source": [
    "#Input configuration\n",
    "#See the experiment description for defaults and other options\n",
    "experimentConfiguration = {\n",
    "    \"inputs\": [\n",
    "        {\"filename\": \"input_smiles.csv\", \"content\": moleculeData}\n",
    "    ],\n",
    "    \"variables\": {\n",
    "        \"startIndex\": 0,\n",
    "        # you can submit multiple molecules in 1 experiment\n",
    "        \"numberMolecules\": num_molecules.value,\n",
    "    },\n",
    "    \"metadata\": {\n",
    "      # you can provide user-metadata `key: value` pairs which you can use\n",
    "      # in the future for querying the database (user-metadata)\n",
    "      \"author\": \"amazing-person\"\n",
    "    },\n",
    "    \"additionalOptions\": [\n",
    "      # you can provide additional arguments to elaunch here\n",
    "      # but they cannot override those of the experiment definition\n",
    "      # the additionalOptions of which will automatically be used too\n",
    "      \"--useMemoization=y\"\n",
    "    ],\n",
    "    \"orchestrator_resources\": {\n",
    "      \"cpu\": \"1\",\n",
    "      \"memory\": \"2Gi\"\n",
    "    }\n",
    "}"
   ]
  },
  {
   "cell_type": "code",
   "execution_count": null,
   "metadata": {},
   "outputs": [],
   "source": [
    "#Submit an instance of the parameterised virtual experiment package\n",
    "experimentId = 'band-gap-pm3-gamess-us'\n",
    "rest_uid = api.api_experiment_start(experimentId, experimentConfiguration)"
   ]
  },
  {
   "cell_type": "code",
   "execution_count": null,
   "metadata": {},
   "outputs": [],
   "source": [
    "#Print REST-uid of experiment instance\n",
    "print(\"rest-uid:\", rest_uid)"
   ]
  },
  {
   "cell_type": "code",
   "execution_count": null,
   "metadata": {},
   "outputs": [],
   "source": [
    "#Get instance status - run this cell periodically, until experiment state becomes \"Finished\"\n",
    "#it should take about 5 minutes\n",
    "instance_status = api.api_rest_uid_status(rest_uid)\n",
    "\n",
    "status = instance_status['status']\n",
    "status = {key: status[key] for key in status if key != \"meta\"}\n",
    "print(\"Status of instance is\\n\",json.dumps(status, indent=2))\n",
    "\n",
    "#Uncomment to see verbose state of instance\n",
    "#PrettyInstanceStatus(instance_status)"
   ]
  },
  {
   "cell_type": "code",
   "execution_count": null,
   "metadata": {},
   "outputs": [],
   "source": [
    "while True:\n",
    "    clear_output(wait=True)\n",
    "    instance_status = api.api_rest_uid_status(rest_uid)\n",
    "\n",
    "    print(f\"Outputs produced so far are {pretty_json(instance_status['outputs'])}\", end='\\n\\n')\n",
    "    exp_state = instance_status['status']['experiment-state']\n",
    "    if exp_state is None:\n",
    "        next_call = datetime.datetime.now() + datetime.timedelta(seconds=10)\n",
    "        print(f\"Kubernetes is spinning up objects - try again at {next_call}\")\n",
    "        time.sleep(10)\n",
    "        continue\n",
    "                                         \n",
    "    if exp_state in [\"running\", \"initialising\"]:\n",
    "        print(f\"Experiment is {exp_state}, it may produce more outputs\")\n",
    "        print(\"The experiment in this example, only produces 1 output - OptimisationResults\")\n",
    "    else:\n",
    "        print(f\"Experiment is {exp_state} - it will not produce new outputs\", end='\\n\\n')\n",
    "\n",
    "    # Get the CSV data associated with a particular result type\n",
    "    # If you attempt to fetch an output for which there is no entry in the instance_status['outputs'] dictionary,\n",
    "    # or there is no workflow instance the statement below will raise an InvalidHTTPRequest exception, \n",
    "    # read the description of the Exception for more information.\n",
    "    if 'OptimisationResults' in instance_status['outputs']:\n",
    "        filename, contents = api.api_rest_uid_output(rest_uid, 'OptimisationResults')\n",
    "        print(\"Contents (i.e. bytes) of\", filename, \"are:\")\n",
    "        print(contents.decode('utf-8'))\n",
    "        break\n",
    "    else:\n",
    "        next_call = datetime.datetime.now() + datetime.timedelta(seconds=10)\n",
    "        print(f\"Experiment has not produced outputs yet - try again at {next_call}\")\n",
    "        time.sleep(10)"
   ]
  },
  {
   "cell_type": "markdown",
   "metadata": {},
   "source": [
    "## Extract measured properties"
   ]
  },
  {
   "cell_type": "markdown",
   "metadata": {},
   "source": [
    "Extracting measured properties can be done in three ways:\n",
    "1. Making a GET request to the `/instances/{rest_uid}/properties` endpoint of the `st4sd-runtime-service`.\n",
    "2. Using the `include_properties` parameter of the `api.cdb_get_experiment_document_for_rest_uid` method.\n",
    "3. Using the `include_properties` parameter of the `api.cdb_get_document_experiment` method.\n",
    "\n",
    "All these methods also allow the user to specify only a certain subset of properties to retrieve."
   ]
  },
  {
   "cell_type": "markdown",
   "metadata": {},
   "source": [
    "### Retrieve all properties"
   ]
  },
  {
   "cell_type": "markdown",
   "metadata": {},
   "source": [
    "#### HTTP Request to st4sd-runtime-service"
   ]
  },
  {
   "cell_type": "code",
   "execution_count": null,
   "metadata": {},
   "outputs": [],
   "source": [
    "x = api.api_request_get(f\"/instances/{rest_uid}/properties\")\n",
    "x = pd.DataFrame.from_dict(x)\n",
    "display(x.head(num_molecules.value))"
   ]
  },
  {
   "cell_type": "markdown",
   "metadata": {},
   "source": [
    "#### api.cdb_get_document_experiment_for_rest_uid"
   ]
  },
  {
   "cell_type": "code",
   "execution_count": null,
   "metadata": {},
   "outputs": [],
   "source": [
    "x = api.cdb_get_document_experiment_for_rest_uid(rest_uid, include_properties=['*'])\n",
    "instance = x['instance']\n",
    "x = pd.DataFrame.from_dict(x['interface']['propertyTable'])\n",
    "display(x)"
   ]
  },
  {
   "cell_type": "markdown",
   "metadata": {},
   "source": [
    "#### api.cdb_get_document_experiment"
   ]
  },
  {
   "cell_type": "code",
   "execution_count": null,
   "metadata": {},
   "outputs": [],
   "source": [
    "x = api.cdb_get_document_experiment(instance=instance, include_properties=['*'])[0]\n",
    "x = pd.DataFrame.from_dict(x['interface']['propertyTable'])\n",
    "display(x)"
   ]
  },
  {
   "cell_type": "markdown",
   "metadata": {},
   "source": [
    "### Specify subset of properties to retrieve"
   ]
  },
  {
   "cell_type": "markdown",
   "metadata": {},
   "source": [
    "#### HTTP Request to st4sd-runtime-service"
   ]
  },
  {
   "cell_type": "code",
   "execution_count": null,
   "metadata": {},
   "outputs": [],
   "source": [
    "x = api.api_request_get(f\"/instances/{rest_uid}/properties?includeProperties=homo,lumo\")\n",
    "x = pd.DataFrame.from_dict(x)\n",
    "display(x.head(num_molecules.value))"
   ]
  },
  {
   "cell_type": "markdown",
   "metadata": {},
   "source": [
    "#### api.cdb_get_experiment_document_for_rest_uid"
   ]
  },
  {
   "cell_type": "code",
   "execution_count": null,
   "metadata": {},
   "outputs": [],
   "source": [
    "x = api.cdb_get_document_experiment_for_rest_uid(rest_uid, include_properties=['homo,lumo'])\n",
    "x = pd.DataFrame.from_dict(x['interface']['propertyTable'])\n",
    "display(x)"
   ]
  },
  {
   "cell_type": "markdown",
   "metadata": {},
   "source": [
    "#### api.cdb_get_document_experiment"
   ]
  },
  {
   "cell_type": "code",
   "execution_count": null,
   "metadata": {},
   "outputs": [],
   "source": [
    "x = api.cdb_get_document_experiment(instance=instance, include_properties=['homo,lumo'])[0]\n",
    "x = pd.DataFrame.from_dict(x['interface']['propertyTable'])\n",
    "display(x)"
   ]
  },
  {
   "cell_type": "code",
   "execution_count": null,
   "metadata": {},
   "outputs": [],
   "source": [
    "# Review the instance status now that the experiment has completed\n",
    "print(pretty_json(instance_status))"
   ]
  },
  {
   "cell_type": "markdown",
   "metadata": {},
   "source": [
    "## Query the ST4SD Datastore"
   ]
  },
  {
   "cell_type": "markdown",
   "metadata": {},
   "source": [
    "Keep in mind that the `st4sd-datastore` API will truncate files that are larger than 32MB. In such a case\n",
    "the returned contents will include the message below right at the end of the truncated contents:\n",
    "`FILE TRUNCATED to 33554432 bytes, actual file size is <the-file-size-in-bytes>`"
   ]
  },
  {
   "cell_type": "code",
   "execution_count": null,
   "metadata": {},
   "outputs": [],
   "source": [
    "docs = api.cdb_get_document_experiment(query={})\n",
    "print(\"Recorded workflow instances: %d\" % len(docs))"
   ]
  },
  {
   "cell_type": "code",
   "execution_count": null,
   "metadata": {},
   "outputs": [],
   "source": [
    "# Uncomment to print each `experiment` document\n",
    "# for d in docs:\n",
    "#     pprint.pprint(d['type'])"
   ]
  },
  {
   "cell_type": "code",
   "execution_count": null,
   "metadata": {
    "scrolled": true
   },
   "outputs": [],
   "source": [
    "docs, files = api.cdb_get_data(stage=1, instance='band-gap-.*', component='ExtractEnergies', filename='energies.csv')\n",
    "print(\"Last Matching component document is\", end='\\n\\n')\n",
    "print(pretty_json(docs[-1]))"
   ]
  },
  {
   "cell_type": "code",
   "execution_count": null,
   "metadata": {},
   "outputs": [],
   "source": []
  }
 ],
 "metadata": {
  "kernelspec": {
   "display_name": "Python 3.10.8 64-bit",
   "language": "python",
   "name": "python3"
  },
  "language_info": {
   "codemirror_mode": {
    "name": "ipython",
    "version": 3
   },
   "file_extension": ".py",
   "mimetype": "text/x-python",
   "name": "python",
   "nbconvert_exporter": "python",
   "pygments_lexer": "ipython3",
   "version": "3.10.8"
  },
  "toc": {
   "nav_menu": {},
   "number_sections": true,
   "sideBar": true,
   "skip_h1_title": false,
   "toc_cell": false,
   "toc_position": {},
   "toc_section_display": "block",
   "toc_window_display": false
  },
  "vscode": {
   "interpreter": {
    "hash": "b0fa6594d8f4cbf19f97940f81e996739fb7646882a419484c72d19e05852a7e"
   }
  }
 },
 "nbformat": 4,
 "nbformat_minor": 2
}
